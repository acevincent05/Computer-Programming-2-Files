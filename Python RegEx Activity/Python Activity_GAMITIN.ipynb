{
 "cells": [
  {
   "cell_type": "code",
   "execution_count": 13,
   "id": "088d4db5",
   "metadata": {},
   "outputs": [
    {
     "name": "stdout",
     "output_type": "stream",
     "text": [
      "Python include the following:\n",
      "Python is a high-level language intended to be relatively\n",
      "Python is an interpreter and when we are running Python interactively,\n",
      "Python program to count the words than it would be to manually\n",
      "Python takes our perfectly written programs and rejects them as\n",
      "Python is much more like a dog, loving you unconditionally, having a few\n",
      "Python does its best to point right at the line and character where\n",
      "\n",
      "The sum of all numbers is 445833\n",
      "The highest number is 9795\n",
      "The total vowel count is 8361\n",
      "Python word count is 103\n"
     ]
    }
   ],
   "source": [
    "import re \n",
    "\n",
    "file = open('regex_sum_42.txt')\n",
    "\n",
    "num_list = []\n",
    "\n",
    "\n",
    "for python in file:\n",
    "    python = python.rstrip()\n",
    "    if re.search('^Python', python):\n",
    "        print(python)\n",
    "        \n",
    "file = open('regex_sum_42.txt')\n",
    "for line in file:\n",
    "    line = line.rstrip()\n",
    "    x = re.findall('[0-9]+', line)\n",
    "    if len(x) > 0:\n",
    "        while len(x) != 0:\n",
    "            y = x.pop()\n",
    "            y = int(y)\n",
    "            num_list.append(y)\n",
    "\n",
    "file = open('regex_sum_42.txt')\n",
    "vowel_list = [] \n",
    "print()\n",
    "for line in file:\n",
    "    line = line.rstrip()\n",
    "    x = re.findall(\"[aeiouAEIOU]\", line)\n",
    "    if len(x) > 0:\n",
    "        vowel_list += x\n",
    "\n",
    "file = open('regex_sum_42.txt')\n",
    "\n",
    "python_words = []\n",
    "for python in file:\n",
    "    python = python.rstrip()\n",
    "    x = re.findall('(Python)', python)\n",
    "    if len(x) > 0:\n",
    "        python_words += x\n",
    "    \n",
    "print(f'The sum of all numbers is {sum(num_list)}')\n",
    "print(f'The highest number is {max(num_list)}')\n",
    "print(f'The total vowel count is {len(vowel_list)}')\n",
    "print(f'Python word count is {len(python_words)}')\n"
   ]
  }
 ],
 "metadata": {
  "kernelspec": {
   "display_name": "Python 3 (ipykernel)",
   "language": "python",
   "name": "python3"
  },
  "language_info": {
   "codemirror_mode": {
    "name": "ipython",
    "version": 3
   },
   "file_extension": ".py",
   "mimetype": "text/x-python",
   "name": "python",
   "nbconvert_exporter": "python",
   "pygments_lexer": "ipython3",
   "version": "3.10.9"
  }
 },
 "nbformat": 4,
 "nbformat_minor": 5
}
