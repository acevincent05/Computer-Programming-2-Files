{
 "cells": [
  {
   "cell_type": "code",
   "execution_count": 1,
   "id": "ffe481e0-ab16-4e16-ac01-397f70e5cf0b",
   "metadata": {},
   "outputs": [
    {
     "name": "stdin",
     "output_type": "stream",
     "text": [
      "Enter number:  .25\n",
      "Enter number:  1\n",
      "Enter number:  5\n",
      "Enter number:  10\n",
      "Enter number:  20\n",
      "Enter number:  50\n",
      "Enter number:  100\n",
      "Enter number:  200\n",
      "Enter number:  500\n",
      "Enter number:  1000\n"
     ]
    },
    {
     "name": "stdout",
     "output_type": "stream",
     "text": [
      "\n",
      "The total amount is 2000 pesos\n"
     ]
    }
   ],
   "source": [
    "# Write a program that will accept input for the number of 25 centavos, \n",
    "# 1 peso, 5 pesos, 10 pesos, 20 pesos, 50 pesos, 100 pesos, 200 pesos\n",
    "# 500 pesos, and 1000 pesos\n",
    "# Compute and display the total amount of money\n",
    "\n",
    "for i in range(1, 11):\n",
    "    amount = eval(input('Enter number: '))\n",
    "    amount += amount\n",
    "\n",
    "print()\n",
    "print(f'The total amount is {amount} pesos')\n",
    "\n"
   ]
  },
  {
   "cell_type": "code",
   "execution_count": 3,
   "id": "122339b0-60ff-44cc-ae3b-663ccbad92ff",
   "metadata": {},
   "outputs": [
    {
     "name": "stdin",
     "output_type": "stream",
     "text": [
      "Enter grades for Prelim:  90\n",
      "Enter grades for Midterm:  90\n",
      "Enter grades for Semi-Final:  90\n",
      "Enter grades for Final:  90\n",
      "Enter grades for Quiz:  90\n",
      "Enter grades for Project:  90\n"
     ]
    },
    {
     "name": "stdout",
     "output_type": "stream",
     "text": [
      "\n",
      "Final grade:  90.00\n",
      "Congratulations! You passed the course\n"
     ]
    }
   ],
   "source": [
    "# Create a program that will accept Prelim, Midterm, Semi-Final, Final, Quiz, and Project Grade. \n",
    "# Compute the final grade: FG = (prelime x 15%) + (midterm x 15%) + (semifinal x 15%) + (final x 15%) + (quiz x 25%) + (project x 15%)\n",
    "# Display a remark Congratulations! You passed the course if final grade is 75 and above; otherwise display Sorry, you failed\n",
    "\n",
    "prelim = int(input('Enter grades for Prelim: '))\n",
    "midterm = int(input('Enter grades for Midterm: '))\n",
    "semi = int(input('Enter grades for Semi-Final: '))\n",
    "final = int(input('Enter grades for Final: '))\n",
    "quiz = int(input('Enter grades for Quiz: '))\n",
    "project = int(input('Enter grades for Project: '))\n",
    "\n",
    "FG = (prelim*.15)+(midterm*.15)+(semi*.15)+(final*.15)+(quiz*.25)+(project*.15)\n",
    "\n",
    "print()\n",
    "print(f'Final grade: {FG: .2f}')\n",
    "\n",
    "if FG >= 75:\n",
    "    print('Congratulations! You passed the course')\n",
    "elif FG < 75:\n",
    "    print('Sorry, you failed')\n"
   ]
  },
  {
   "cell_type": "code",
   "execution_count": 5,
   "id": "e86554f2-ebf4-4c52-8cc3-c7b5b2550b67",
   "metadata": {},
   "outputs": [
    {
     "name": "stdin",
     "output_type": "stream",
     "text": [
      "Enter an integer:  5\n"
     ]
    },
    {
     "name": "stdout",
     "output_type": "stream",
     "text": [
      "120\n"
     ]
    }
   ],
   "source": [
    "# Accept an integer number.\n",
    "# Compute and display the factorial of the number.\n",
    "\n",
    "num = int(input('Enter an integer: '))\n",
    "factorial = 1\n",
    "for i in range(1, num + 1):\n",
    "    factorial *= i\n",
    "\n",
    "print(factorial)"
   ]
  },
  {
   "cell_type": "code",
   "execution_count": 7,
   "id": "3881cd19-d296-40d3-99f1-473e2f19a1ed",
   "metadata": {},
   "outputs": [
    {
     "name": "stdin",
     "output_type": "stream",
     "text": [
      "Enter integer:  3\n",
      "Enter integer:  3\n",
      "Enter integer:  3\n",
      "Enter integer:  3\n",
      "Enter integer:  3\n",
      "Enter integer:  2\n",
      "Enter integer:  2\n",
      "Enter integer:  2\n",
      "Enter integer:  2\n",
      "Enter integer:  2\n"
     ]
    },
    {
     "name": "stdout",
     "output_type": "stream",
     "text": [
      "number of even numbers: 5\n",
      "number of odd numbers: 5\n"
     ]
    }
   ],
   "source": [
    "# Accept 10 Integer numbers.\n",
    "# Count and display how many odd and even number input.\n",
    "even = 0\n",
    "odd = 0\n",
    "\n",
    "for i in range(1, 11):\n",
    "    num = int(input('Enter integer: '))\n",
    "    if num % 2 == 0:\n",
    "        even += 1\n",
    "    elif num % 2 != 0:\n",
    "        odd += 1\n",
    "\n",
    "print(f'number of even numbers: {even}')\n",
    "print(f'number of odd numbers: {odd}')"
   ]
  },
  {
   "cell_type": "code",
   "execution_count": 9,
   "id": "f28e9291-a6d5-4446-8457-4db05992f86a",
   "metadata": {},
   "outputs": [
    {
     "name": "stdin",
     "output_type": "stream",
     "text": [
      "Enter a number:  99\n"
     ]
    },
    {
     "name": "stdout",
     "output_type": "stream",
     "text": [
      "The number is not Prime Number.\n"
     ]
    }
   ],
   "source": [
    "# Input a number and display if the number is a Prime Number or Not a Prime Number\n",
    "\n",
    "num = int(input('Enter a number: '))\n",
    "\n",
    "not_prime = False\n",
    "          \n",
    "for i in range(2, num):\n",
    "    if num % i == 0:\n",
    "        not_prime = True\n",
    "        break\n",
    "        \n",
    "if not_prime:\n",
    "    print('The number is not Prime Number.')\n",
    "else:\n",
    "    print('The number is a Prime Number.')\n",
    "\n"
   ]
  },
  {
   "cell_type": "code",
   "execution_count": 11,
   "id": "150a54aa-706b-4fbc-b70d-7bcc5f4bdda0",
   "metadata": {},
   "outputs": [
    {
     "name": "stdin",
     "output_type": "stream",
     "text": [
      "Enter a number:  10\n"
     ]
    },
    {
     "name": "stdout",
     "output_type": "stream",
     "text": [
      "3\n",
      "4\n",
      "6\n",
      "7\n",
      "8\n",
      "9\n"
     ]
    }
   ],
   "source": [
    "# Display a series of prime numbers based on user input.\n",
    "\n",
    "num = int(input('Enter a number: '))\n",
    "\n",
    "for i in range(2, num+1):\n",
    "    for j in range(2, num):\n",
    "        if num % i == 0:\n",
    "            break\n",
    "    else:\n",
    "        print(i)\n"
   ]
  },
  {
   "cell_type": "code",
   "execution_count": 41,
   "id": "7d8a38e9-11d8-4c79-a83c-a12bbc1a8719",
   "metadata": {},
   "outputs": [
    {
     "name": "stdin",
     "output_type": "stream",
     "text": [
      "Enter nth Fibonacci number:  10\n"
     ]
    },
    {
     "name": "stdout",
     "output_type": "stream",
     "text": [
      "34\n"
     ]
    }
   ],
   "source": [
    "# Create a program that will ask user to input the nth Fibonacci number series.\n",
    "# Compute and display the Fibonacci number based on the input\n",
    "\n",
    "n = int(input('Enter nth Fibonacci number: '))\n",
    "\n",
    "a = 0\n",
    "b = 1\n",
    "c = 0\n",
    "\n",
    "if n<=0:\n",
    "    print('Invalid input')\n",
    "else:\n",
    "    for i in range(1, n):\n",
    "        a = b\n",
    "        b = c \n",
    "        c = a + b\n",
    "\n",
    "print(c)"
   ]
  },
  {
   "cell_type": "code",
   "execution_count": 13,
   "id": "da95cf58-4988-4d07-8f56-00733cbecc0f",
   "metadata": {},
   "outputs": [
    {
     "name": "stdin",
     "output_type": "stream",
     "text": [
      "Enter an integer 1\n",
      "Enter an integer 2\n",
      "Enter an integer 3\n",
      "Enter an integer 54\n",
      "Enter an integer 32\n",
      "Enter an integer 52\n",
      "Enter an integer 64\n",
      "Enter an integer 0\n"
     ]
    },
    {
     "name": "stdout",
     "output_type": "stream",
     "text": [
      "\n",
      "Contents of the list: [1, 2, 3, 54, 32, 52, 64]\n",
      "Size of the list: 7\n",
      "Highest number: 64\n",
      "Lowest number: 1\n"
     ]
    }
   ],
   "source": [
    "# Accept integer number and store it to a list until user input is 0.\n",
    "# Display the content of the list and size of the list.\n",
    "# Display the highest and lowest numbers.\n",
    "\n",
    "num_list = []\n",
    "\n",
    "while True:\n",
    "    num = int(input('Enter an integer'))\n",
    "    if num != 0:\n",
    "        num_list.append(num)\n",
    "    else:\n",
    "        break\n",
    "\n",
    "size = len(num_list)\n",
    "min_num = min(num_list)\n",
    "max_num = max(num_list)\n",
    "\n",
    "print()\n",
    "print(f'Contents of the list: {num_list}')\n",
    "print(f'Size of the list: {size}')\n",
    "print(f'Highest number: {max_num}')\n",
    "print(f'Lowest number: {min_num}')"
   ]
  },
  {
   "cell_type": "code",
   "execution_count": 49,
   "id": "a6696974-1bc0-43d0-bef0-898213dd108b",
   "metadata": {},
   "outputs": [
    {
     "name": "stdin",
     "output_type": "stream",
     "text": [
      "Enter an integer 41\n",
      "Enter an integer 214\n",
      "Enter an integer 54\n",
      "Enter an integer 52\n",
      "Enter an integer 678\n",
      "Enter an integer 46\n",
      "Enter an integer 0\n"
     ]
    },
    {
     "name": "stdout",
     "output_type": "stream",
     "text": [
      "\n",
      "Contents of the list: [41, 214, 54, 52, 678, 46]\n",
      "Size of the list: 6\n",
      "\n",
      "Highest number: 678\n",
      "Index: 4\n",
      "\n",
      "Lowest number: 41\n",
      "Index: 0\n"
     ]
    }
   ],
   "source": [
    "# Accept integer number and store it to a list until user input is 0.\n",
    "# Display the content of the list and size of the list.\n",
    "# Display the highest and lowest numbers in the list and the index number it can be found.\n",
    "\n",
    "num_list = []\n",
    "\n",
    "while True:\n",
    "    num = int(input('Enter an integer'))\n",
    "    if num != 0:\n",
    "        num_list.append(num)\n",
    "    else:\n",
    "        break\n",
    "\n",
    "size = len(num_list)\n",
    "min_num = min(num_list)\n",
    "max_num = max(num_list)\n",
    "print()\n",
    "print(f'Contents of the list: {num_list}')\n",
    "print(f'Size of the list: {size}')\n",
    "print()\n",
    "print(f'Highest number: {max_num}')\n",
    "print(f'Index: {num_list.index(max_num)}')\n",
    "print()\n",
    "print(f'Lowest number: {min_num}')\n",
    "print(f'Index: {num_list.index(min_num)}')"
   ]
  },
  {
   "cell_type": "code",
   "execution_count": 93,
   "id": "5bc97037-abdb-44e7-b5fd-519445a734a9",
   "metadata": {},
   "outputs": [
    {
     "name": "stdin",
     "output_type": "stream",
     "text": [
      "Enter list size:  5\n",
      "Enter name 1:  kevin\n",
      "Enter name 2:  ace\n",
      "Enter name 3:  raily\n",
      "Enter name 4:  carl\n",
      "Enter name 5:  neil\n"
     ]
    },
    {
     "name": "stdout",
     "output_type": "stream",
     "text": [
      "Names that starts with vowels: ['ace']\n",
      "Names that starts with consonants: ['kevin', 'raily', 'carl', 'neil']\n"
     ]
    }
   ],
   "source": [
    "# Create a Python program that will demonstrate list comprehension.\n",
    "\n",
    "list_size = int(input('Enter list size: '))\n",
    "list_in = []\n",
    "vowels = ['a', 'e', 'i', 'o', 'u', 'A', 'E', 'I', 'O', 'U']\n",
    "\n",
    "for i in range(1, 1+list_size):\n",
    "    name = input(f'Enter name {i}: ')\n",
    "    list_in.append(name)\n",
    "    \n",
    "list_vowels = [a for a in list_in if a[0] in vowels]\n",
    "list_consonants = [a for a in list_in if a[0] not in vowels]\n",
    "\n",
    "print(f'Names that starts with vowels: {list_vowels}')\n",
    "print(f'Names that starts with consonants: {list_consonants}')"
   ]
  },
  {
   "cell_type": "code",
   "execution_count": 91,
   "id": "28fd591f-192e-48f0-9c9c-bab150df285e",
   "metadata": {},
   "outputs": [
    {
     "name": "stdin",
     "output_type": "stream",
     "text": [
      "Enter student name:  ace\n",
      "Enter grade for ace:  90\n",
      "Do you want to continue [y/n]:  y\n"
     ]
    },
    {
     "name": "stdout",
     "output_type": "stream",
     "text": [
      "\n"
     ]
    },
    {
     "name": "stdin",
     "output_type": "stream",
     "text": [
      "Enter student name:  kyla\n",
      "Enter grade for kyla:  95\n",
      "Do you want to continue [y/n]:  y\n"
     ]
    },
    {
     "name": "stdout",
     "output_type": "stream",
     "text": [
      "\n"
     ]
    },
    {
     "name": "stdin",
     "output_type": "stream",
     "text": [
      "Enter student name:  vincent\n",
      "Enter grade for vincent:  85\n",
      "Do you want to continue [y/n]:  n\n"
     ]
    },
    {
     "name": "stdout",
     "output_type": "stream",
     "text": [
      "\n",
      "\n",
      "Student Grades\n",
      "ace: 90\n",
      "kyla: 95\n",
      "vincent: 85\n",
      "\n",
      "Student with highest grade: kyla, 95\n",
      "Student with lowest grade: vincent, 85\n"
     ]
    }
   ],
   "source": [
    "# Accept student name and grade and save it to a dictionary.\n",
    "# Display the content of the dictionary.\n",
    "# Display the name  and grade of student with the highest and lowest grade.\n",
    "\n",
    "students = {}\n",
    "cont = 'y'\n",
    "\n",
    "while cont == 'y':\n",
    "    name = input('Enter student name: ')\n",
    "    grade = eval(input(f'Enter grade for {name}: '))\n",
    "    students[name] = grade\n",
    "    cont = input(\"Do you want to continue [y/n]: \")\n",
    "    print()\n",
    "\n",
    "highest = max(students, key=students.get)\n",
    "lowest = min(students, key=students.get)\n",
    "\n",
    "print()\n",
    "print('Student Grades')\n",
    "for name, grade in students.items():\n",
    "    print(f'{name}: {grade}')\n",
    "    \n",
    "print()\n",
    "print(f'Student with highest grade: {highest}, {students[highest]}')\n",
    "print(f'Student with lowest grade: {lowest}, {students[lowest]}')"
   ]
  },
  {
   "cell_type": "code",
   "execution_count": 69,
   "id": "f0588008-d5ca-4f5a-87ac-15dff2a03e87",
   "metadata": {},
   "outputs": [
    {
     "name": "stdin",
     "output_type": "stream",
     "text": [
      "Enter a string:  test\n"
     ]
    },
    {
     "name": "stdout",
     "output_type": "stream",
     "text": [
      "t\n",
      "e\n",
      "s\n",
      "t\n",
      "Total characters: 4\n"
     ]
    }
   ],
   "source": [
    "# Accept string input.\n",
    "# Display each charter of the string (vertical order)\n",
    "# Count and display total i charter in the string.\n",
    "\n",
    "string_input = input('Enter a string: ')\n",
    "\n",
    "string_num = 0\n",
    "\n",
    "for char in string_input:\n",
    "    print(char)\n",
    "    string_num += 1\n",
    "\n",
    "print(f'Total characters: {string_num}')"
   ]
  },
  {
   "cell_type": "code",
   "execution_count": 57,
   "id": "680d2ce5-7188-485b-aaae-c7e1b5b9dfc1",
   "metadata": {},
   "outputs": [
    {
     "name": "stdin",
     "output_type": "stream",
     "text": [
      "Enter a string:  MSEUF\n"
     ]
    },
    {
     "name": "stdout",
     "output_type": "stream",
     "text": [
      "String in reverse: FUESM\n"
     ]
    }
   ],
   "source": [
    "# Accept string input.\n",
    "# Count vowel and consonant characters in the string.\n",
    "# Display the string in reverse order.\n",
    "\n",
    "string_input = input('Enter a string: ')\n",
    "\n",
    "reversed = ''\n",
    "for char in string_input:\n",
    "    reversed = char + reversed\n",
    "\n",
    "print(f'String in reverse: {reversed}')"
   ]
  },
  {
   "cell_type": "code",
   "execution_count": 79,
   "id": "5315c580-2140-4cd8-af54-9350777f932a",
   "metadata": {},
   "outputs": [
    {
     "name": "stdin",
     "output_type": "stream",
     "text": [
      "Enter a string:  planet\n"
     ]
    },
    {
     "name": "stdout",
     "output_type": "stream",
     "text": [
      "Number of vowels: 2\n",
      "Number of consonants: 4\n"
     ]
    }
   ],
   "source": [
    "# Accept string input.\n",
    "# Count vowel and consonant characters in the string.\n",
    "# Display the string in reverse order.\n",
    "\n",
    "string_input = input('Enter a string: ')\n",
    "\n",
    "vowel_count = 0\n",
    "consonant_count = 0\n",
    "vowels = ['a', 'e', 'i', 'o', 'u', 'A', 'E', 'I', 'O', 'U']\n",
    "\n",
    "for char in string_input:\n",
    "    if char in vowels:\n",
    "        vowel_count += 1\n",
    "    else:\n",
    "        consonant_count  += 1\n",
    "\n",
    "print(f'Number of vowels: {vowel_count}')\n",
    "print(f'Number of consonants: {consonant_count}')"
   ]
  },
  {
   "cell_type": "code",
   "execution_count": 63,
   "id": "d33b640f-cb60-4df6-b93f-b9f9e55be34a",
   "metadata": {},
   "outputs": [
    {
     "name": "stdin",
     "output_type": "stream",
     "text": [
      "Enter a string:  civic\n"
     ]
    },
    {
     "name": "stdout",
     "output_type": "stream",
     "text": [
      "The string is a palindrome.\n"
     ]
    }
   ],
   "source": [
    "# Accept string input.\n",
    "# Display if the string is Palindrome or Not a Palindrome\n",
    "\n",
    "\n",
    "string_input = input('Enter a string: ')\n",
    "\n",
    "reversed = ''\n",
    "for char in string_input:\n",
    "    reversed = char + reversed\n",
    "\n",
    "if string_input == reversed:\n",
    "    print('The string is a palindrome.')\n",
    "else:\n",
    "    print('The string is not a palindrome.')"
   ]
  },
  {
   "cell_type": "code",
   "execution_count": 163,
   "id": "3796d228-414c-4384-9985-050e6a545582",
   "metadata": {},
   "outputs": [
    {
     "name": "stdin",
     "output_type": "stream",
     "text": [
      "Enter a number:  15\n"
     ]
    },
    {
     "name": "stdout",
     "output_type": "stream",
     "text": [
      "15 is odd.\n"
     ]
    }
   ],
   "source": [
    "# Create a Python program that will use at least 3 user-defined function. Demonstrate function with return value and void function. \n",
    "\n",
    "def get_number():\n",
    "    return int(input(\"Enter a number: \"))\n",
    "\n",
    "def is_odd(number):\n",
    "    return number % 2 != 0\n",
    "\n",
    "def result(number, even):\n",
    "    if odd:\n",
    "        print(f\"{number} is odd.\")\n",
    "    else:\n",
    "        print(f\"{number} is even.\")\n",
    "\n",
    "number = get_number()  \n",
    "odd = is_odd(number)  \n",
    "result(number, even) \n",
    "\n"
   ]
  },
  {
   "cell_type": "code",
   "execution_count": 99,
   "id": "d676409c-bc1b-4d94-9245-6556efc4cc6e",
   "metadata": {},
   "outputs": [
    {
     "name": "stdin",
     "output_type": "stream",
     "text": [
      "Enter the size of the list:  5\n"
     ]
    },
    {
     "name": "stdout",
     "output_type": "stream",
     "text": [
      "Enter 5 names: \n"
     ]
    },
    {
     "name": "stdin",
     "output_type": "stream",
     "text": [
      " zack\n",
      " rob\n",
      " yen\n",
      " trie\n",
      " ben\n"
     ]
    },
    {
     "name": "stdout",
     "output_type": "stream",
     "text": [
      "Sorted names: ben, rob, trie, yen, zack\n"
     ]
    }
   ],
   "source": [
    "# Create a Python program that will demonstrate lambda.\n",
    "\n",
    "size = int(input('Enter the size of the list: '))\n",
    "\n",
    "print(f'Enter {size} names: ')\n",
    "names = [input() for _ in range(size)]\n",
    "\n",
    "sort_names = lambda lst: sorted(lst, key=lambda x: x.lower())\n",
    "\n",
    "sort_names = sort_names(names)\n",
    "\n",
    "print('Sorted names:', ', '.join(names.lower() for names in sort_names))\n"
   ]
  },
  {
   "cell_type": "code",
   "execution_count": null,
   "id": "54adbaf3-d398-478f-b064-3af60e12805f",
   "metadata": {},
   "outputs": [],
   "source": []
  }
 ],
 "metadata": {
  "kernelspec": {
   "display_name": "Python 3 (ipykernel)",
   "language": "python",
   "name": "python3"
  },
  "language_info": {
   "codemirror_mode": {
    "name": "ipython",
    "version": 3
   },
   "file_extension": ".py",
   "mimetype": "text/x-python",
   "name": "python",
   "nbconvert_exporter": "python",
   "pygments_lexer": "ipython3",
   "version": "3.12.4"
  }
 },
 "nbformat": 4,
 "nbformat_minor": 5
}
